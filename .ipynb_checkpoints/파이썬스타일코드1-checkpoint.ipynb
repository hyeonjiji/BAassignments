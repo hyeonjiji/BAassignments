{
 "cells": [
  {
   "cell_type": "markdown",
   "metadata": {},
   "source": [
    "# 일반문제"
   ]
  },
  {
   "cell_type": "markdown",
   "metadata": {},
   "source": [
    "## 1. Css Selector 수정 "
   ]
  },
  {
   "cell_type": "code",
   "execution_count": 1,
   "metadata": {},
   "outputs": [
    {
     "data": {
      "text/plain": [
       "'#today_main_news  >  div.hdline_news  >  ul  >  li'"
      ]
     },
     "execution_count": 1,
     "metadata": {},
     "output_type": "execute_result"
    }
   ],
   "source": [
    "selector='#today_main_news > div.hdline_news > ul > li:nth-child(1)'\n",
    "\n",
    "# 1. 특정 구분자(seperator)를 통해 구분된 리스트를 만든다.\n",
    "selector_list = selector.split(\">\")\n",
    "\n",
    "# 2. 구분된 리스트에서 해당 부분을 선택하고 1과는 다른 특정 구분자로 나눠준다.\n",
    "# 3. 2의 리스트에서 필요한 부분만 선택하여 기존 리스트에 할당한다.\n",
    "selector_list[-1] = selector_list[-1].split(\":\")[0]\n",
    "\n",
    "# 4. 구분자를 기준으로 리스트를 문자열로 합쳐준다.\n",
    "\" > \".join(selector_list)"
   ]
  },
  {
   "cell_type": "markdown",
   "metadata": {},
   "source": [
    "## 2. list comprehension으로 만드는 구구단"
   ]
  },
  {
   "cell_type": "code",
   "execution_count": 2,
   "metadata": {},
   "outputs": [
    {
     "name": "stdout",
     "output_type": "stream",
     "text": [
      "2 x 1 = 2\n",
      "2 x 2 = 4\n",
      "2 x 3 = 6\n",
      "2 x 4 = 8\n",
      "2 x 5 = 10\n",
      "2 x 6 = 12\n",
      "2 x 7 = 14\n",
      "2 x 8 = 16\n",
      "2 x 9 = 18\n"
     ]
    }
   ],
   "source": [
    "def gugu_com(x=2):\n",
    "    [print(f\"{x} x {i} = {x*i}\") for i in range(1, 10)]\n",
    "\n",
    "gugu_com(2)"
   ]
  },
  {
   "cell_type": "markdown",
   "metadata": {},
   "source": [
    "## 3. 두 주사위의 곱"
   ]
  },
  {
   "cell_type": "code",
   "execution_count": 3,
   "metadata": {},
   "outputs": [
    {
     "data": {
      "text/plain": [
       "[[1, 2, 3, 4, 5, 6],\n",
       " [2, 4, 6, 8, 10, 12],\n",
       " [3, 6, 9, 12, 15, 18],\n",
       " [4, 8, 12, 16, 20, 24],\n",
       " [5, 10, 15, 20, 25, 30],\n",
       " [6, 12, 18, 24, 30, 36]]"
      ]
     },
     "execution_count": 3,
     "metadata": {},
     "output_type": "execute_result"
    }
   ],
   "source": [
    "die = [i for i in range(1,7)]\n",
    "\n",
    "[[j*i for i in die] for j in die]"
   ]
  },
  {
   "cell_type": "markdown",
   "metadata": {},
   "source": [
    "## 4. 두 주사위의 합"
   ]
  },
  {
   "cell_type": "code",
   "execution_count": 4,
   "metadata": {},
   "outputs": [
    {
     "name": "stdout",
     "output_type": "stream",
     "text": [
      "8\n",
      "8\n"
     ]
    }
   ],
   "source": [
    "dice_sum = [[2, 3, 4, 5, 6, 7],\n",
    "            [3, 4, 5, 6, 7, 8],\n",
    "            [4, 5, 6, 7, 8, 9],\n",
    "            [5, 6, 7, 8, 9, 10],\n",
    "            [6, 7, 8, 9, 10, 11],\n",
    "            [7, 8, 9, 10, 11, 12]]\n",
    "\n",
    "print(dice_sum[1][5])\n",
    "print(dice_sum[5][1])"
   ]
  },
  {
   "cell_type": "code",
   "execution_count": 5,
   "metadata": {},
   "outputs": [
    {
     "name": "stdout",
     "output_type": "stream",
     "text": [
      "8\n",
      "8\n"
     ]
    }
   ],
   "source": [
    "die = [i for i in range(1,7)]\n",
    "\n",
    "dice_sum = [[j+i for i in die] for j in die]\n",
    "\n",
    "print(dice_sum[1][5])\n",
    "print(dice_sum[5][1])"
   ]
  },
  {
   "cell_type": "markdown",
   "metadata": {},
   "source": [
    "# 도전문제"
   ]
  },
  {
   "cell_type": "code",
   "execution_count": 6,
   "metadata": {},
   "outputs": [],
   "source": [
    "from collections import defaultdict, Counter\n",
    "\n",
    "text = \"\"\"Python is a very simple programming language so even if you are new to programming, you can learn python without facing any issues.\"\"\"\n",
    "\n",
    "text2 = \"\"\"C is a very difficult programming language so even if you are good at programming, you can learn c with facing any issues.\"\"\"\n",
    "\n",
    "text3 = \"\"\"R Programming is good at statistical analysis. you can learn easily\"\"\""
   ]
  },
  {
   "cell_type": "markdown",
   "metadata": {},
   "source": [
    "## 문제1\n",
    "    Q: defaultdict를 활용하여 text를 입력받으면 단어별 빈도를 측정하여 반환하는 함수 word_counter를 만드시오."
   ]
  },
  {
   "cell_type": "code",
   "execution_count": 7,
   "metadata": {},
   "outputs": [],
   "source": [
    "def word_counter(text):\n",
    "    word_count = defaultdict(lambda: 0)\n",
    "    for word in text.lower().split():\n",
    "        word_count[word] += 1\n",
    "        \n",
    "    return word_count"
   ]
  },
  {
   "cell_type": "code",
   "execution_count": 8,
   "metadata": {},
   "outputs": [
    {
     "data": {
      "text/plain": [
       "defaultdict(<function __main__.word_counter.<locals>.<lambda>()>,\n",
       "            {'python': 2,\n",
       "             'is': 1,\n",
       "             'a': 1,\n",
       "             'very': 1,\n",
       "             'simple': 1,\n",
       "             'programming': 1,\n",
       "             'language': 1,\n",
       "             'so': 1,\n",
       "             'even': 1,\n",
       "             'if': 1,\n",
       "             'you': 2,\n",
       "             'are': 1,\n",
       "             'new': 1,\n",
       "             'to': 1,\n",
       "             'programming,': 1,\n",
       "             'can': 1,\n",
       "             'learn': 1,\n",
       "             'without': 1,\n",
       "             'facing': 1,\n",
       "             'any': 1,\n",
       "             'issues.': 1})"
      ]
     },
     "execution_count": 8,
     "metadata": {},
     "output_type": "execute_result"
    }
   ],
   "source": [
    "word_counter(text)"
   ]
  },
  {
   "cell_type": "markdown",
   "metadata": {},
   "source": [
    "## 문제2\n",
    "    Q: 도전문제 1의 word_counter 활용하여 text와 text2의 유사도와 text와 text3의 유사도를 구하시오."
   ]
  },
  {
   "cell_type": "code",
   "execution_count": 9,
   "metadata": {},
   "outputs": [],
   "source": [
    "def text_similarity(text_count_1, text_count_2):\n",
    "    text1_count = Counter(text_count_1)\n",
    "    text2_count = Counter(text_count_2)\n",
    "    \n",
    "    word_total = sum(text1_count.values())\n",
    "    word_diff = sum((text1_count - text2_count).values())\n",
    "    \n",
    "    return (1 - word_diff / word_total) * 100"
   ]
  },
  {
   "cell_type": "code",
   "execution_count": 10,
   "metadata": {},
   "outputs": [
    {
     "data": {
      "text/plain": [
       "73.91304347826086"
      ]
     },
     "execution_count": 10,
     "metadata": {},
     "output_type": "execute_result"
    }
   ],
   "source": [
    "text_similarity(word_counter(text), word_counter(text2))"
   ]
  },
  {
   "cell_type": "code",
   "execution_count": 11,
   "metadata": {},
   "outputs": [
    {
     "data": {
      "text/plain": [
       "21.739130434782606"
      ]
     },
     "execution_count": 11,
     "metadata": {},
     "output_type": "execute_result"
    }
   ],
   "source": [
    "text_similarity(word_counter(text), word_counter(text3))"
   ]
  }
 ],
 "metadata": {
  "kernelspec": {
   "display_name": "Python 3",
   "language": "python",
   "name": "python3"
  },
  "language_info": {
   "codemirror_mode": {
    "name": "ipython",
    "version": 3
   },
   "file_extension": ".py",
   "mimetype": "text/x-python",
   "name": "python",
   "nbconvert_exporter": "python",
   "pygments_lexer": "ipython3",
   "version": "3.8.3"
  }
 },
 "nbformat": 4,
 "nbformat_minor": 4
}
